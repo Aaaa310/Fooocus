!pip install pygit2==1.12.2
%cd /content
!git clone https://github.com/lllyasviel/Fooocus.git

%cd /content/Fooocus/models/upscale models/
!wget -0 foocus_upscaler_s409985e5.bin https://huggingface.co/lllyasviel/misc/resolve/main/foocus_upscaler_s409985e5.bin?download=true

%cd /content/Foocus
!python entry_with_update.py --share
